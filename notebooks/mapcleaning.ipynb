{
 "cells": [
  {
   "cell_type": "markdown",
   "id": "21c8f153-3511-43e2-9e7c-d646f18be74e",
   "metadata": {},
   "source": [
    "# NB This was eventually not used because it's lookups were even more messy"
   ]
  },
  {
   "cell_type": "code",
   "execution_count": 142,
   "id": "a75678bd-efd3-4097-a979-4a527c126fd6",
   "metadata": {},
   "outputs": [],
   "source": [
    "import pandas as pd\n",
    "from geopy.geocoders import Nominatim\n",
    "from time import sleep\n",
    "from geopy import Point\n",
    "import pycountry\n",
    "from geopy.distance import geodesic\n",
    "import numpy as np"
   ]
  },
  {
   "cell_type": "code",
   "execution_count": 2,
   "id": "94bceb75-163d-4883-8c28-35490d2fbb71",
   "metadata": {},
   "outputs": [],
   "source": [
    "looked_up_countries = {}"
   ]
  },
  {
   "cell_type": "code",
   "execution_count": 128,
   "id": "d8fc6eba-a20f-469a-9fab-634002fadfba",
   "metadata": {},
   "outputs": [
    {
     "data": {
      "text/html": [
       "<div>\n",
       "<style scoped>\n",
       "    .dataframe tbody tr th:only-of-type {\n",
       "        vertical-align: middle;\n",
       "    }\n",
       "\n",
       "    .dataframe tbody tr th {\n",
       "        vertical-align: top;\n",
       "    }\n",
       "\n",
       "    .dataframe thead th {\n",
       "        text-align: right;\n",
       "    }\n",
       "</style>\n",
       "<table border=\"1\" class=\"dataframe\">\n",
       "  <thead>\n",
       "    <tr style=\"text-align: right;\">\n",
       "      <th></th>\n",
       "      <th>Country</th>\n",
       "      <th>Project</th>\n",
       "      <th>Latitude</th>\n",
       "      <th>Longitude</th>\n",
       "      <th>SampleCount</th>\n",
       "    </tr>\n",
       "  </thead>\n",
       "  <tbody>\n",
       "    <tr>\n",
       "      <th>0</th>\n",
       "      <td>Nigeria</td>\n",
       "      <td>54gene</td>\n",
       "      <td>10.600036</td>\n",
       "      <td>8.499972</td>\n",
       "      <td>449</td>\n",
       "    </tr>\n",
       "    <tr>\n",
       "      <th>1</th>\n",
       "      <td>South Africa</td>\n",
       "      <td>AWI-Gen</td>\n",
       "      <td>-26.216624</td>\n",
       "      <td>28.991639</td>\n",
       "      <td>100</td>\n",
       "    </tr>\n",
       "    <tr>\n",
       "      <th>2</th>\n",
       "      <td>Egypt</td>\n",
       "      <td>EGP</td>\n",
       "      <td>35.868130</td>\n",
       "      <td>-90.945675</td>\n",
       "      <td>11</td>\n",
       "    </tr>\n",
       "    <tr>\n",
       "      <th>3</th>\n",
       "      <td>Benin</td>\n",
       "      <td>H3Africa WGS</td>\n",
       "      <td>9.529347</td>\n",
       "      <td>2.258441</td>\n",
       "      <td>50</td>\n",
       "    </tr>\n",
       "    <tr>\n",
       "      <th>4</th>\n",
       "      <td>Botswana</td>\n",
       "      <td>H3Africa WGS</td>\n",
       "      <td>-23.168178</td>\n",
       "      <td>24.592874</td>\n",
       "      <td>48</td>\n",
       "    </tr>\n",
       "    <tr>\n",
       "      <th>...</th>\n",
       "      <td>...</td>\n",
       "      <td>...</td>\n",
       "      <td>...</td>\n",
       "      <td>...</td>\n",
       "      <td>...</td>\n",
       "    </tr>\n",
       "    <tr>\n",
       "      <th>66</th>\n",
       "      <td>Senegal</td>\n",
       "      <td>SGDP</td>\n",
       "      <td>14.475061</td>\n",
       "      <td>-14.452961</td>\n",
       "      <td>2</td>\n",
       "    </tr>\n",
       "    <tr>\n",
       "      <th>67</th>\n",
       "      <td>Sierra Leone</td>\n",
       "      <td>SGDP</td>\n",
       "      <td>8.640035</td>\n",
       "      <td>-11.840027</td>\n",
       "      <td>2</td>\n",
       "    </tr>\n",
       "    <tr>\n",
       "      <th>68</th>\n",
       "      <td>South Africa</td>\n",
       "      <td>SGDP</td>\n",
       "      <td>-28.816624</td>\n",
       "      <td>24.991639</td>\n",
       "      <td>2</td>\n",
       "    </tr>\n",
       "    <tr>\n",
       "      <th>69</th>\n",
       "      <td>Sudan</td>\n",
       "      <td>SGDP</td>\n",
       "      <td>10.900000</td>\n",
       "      <td>6.500000</td>\n",
       "      <td>2</td>\n",
       "    </tr>\n",
       "    <tr>\n",
       "      <th>70</th>\n",
       "      <td>Western Sahara</td>\n",
       "      <td>SGDP</td>\n",
       "      <td>23.340695</td>\n",
       "      <td>-13.129133</td>\n",
       "      <td>2</td>\n",
       "    </tr>\n",
       "  </tbody>\n",
       "</table>\n",
       "<p>71 rows × 5 columns</p>\n",
       "</div>"
      ],
      "text/plain": [
       "           Country       Project   Latitude  Longitude  SampleCount\n",
       "0          Nigeria        54gene  10.600036   8.499972          449\n",
       "1     South Africa       AWI-Gen -26.216624  28.991639          100\n",
       "2            Egypt           EGP  35.868130 -90.945675           11\n",
       "3            Benin  H3Africa WGS   9.529347   2.258441           50\n",
       "4         Botswana  H3Africa WGS -23.168178  24.592874           48\n",
       "..             ...           ...        ...        ...          ...\n",
       "66         Senegal          SGDP  14.475061 -14.452961            2\n",
       "67    Sierra Leone          SGDP   8.640035 -11.840027            2\n",
       "68    South Africa          SGDP -28.816624  24.991639            2\n",
       "69           Sudan          SGDP  10.900000   6.500000            2\n",
       "70  Western Sahara          SGDP  23.340695 -13.129133            2\n",
       "\n",
       "[71 rows x 5 columns]"
      ]
     },
     "execution_count": 128,
     "metadata": {},
     "output_type": "execute_result"
    }
   ],
   "source": [
    "df = pd.read_csv(\"../docs/assets/mapdata.tsv\", sep = \"\\t\")\n",
    "df"
   ]
  },
  {
   "cell_type": "code",
   "execution_count": 129,
   "id": "6d6724f3-fa6f-4c33-9c43-e9ee64383c15",
   "metadata": {},
   "outputs": [],
   "source": [
    "def get_coordinates(row):\n",
    "    if row.Country in looked_up_countries:\n",
    "        print(f\"'{row.Country}' (cached) = \".ljust(40), end = '')\n",
    "        lat, long = looked_up_countries[row.Country]\n",
    "        row[\"NewLatitude\"] = lat\n",
    "        row[\"NewLongitude\"] = long\n",
    "        print(f\"{lat,long}\")\n",
    "        return row\n",
    "    else:\n",
    "        sleep(1)\n",
    "        print(f\"'{row.Country}' (looking up) = \".ljust(40), end = '')\n",
    "        try:\n",
    "            country_obj = pycountry.countries.get(name=row[\"Country\"])\n",
    "            geolocator = Nominatim(user_agent=\"h3abionet2.org\")\n",
    "            location = geolocator.geocode(country_obj.name, country_codes=[country_obj.alpha_2])\n",
    "            row[\"NewLatitude\"] = location.latitude\n",
    "            row[\"NewLongitude\"] = location.longitude\n",
    "        except AttributeError:\n",
    "            row[\"NewLatitude\"] = None\n",
    "            row[\"NewLongitude\"] = None\n",
    "        looked_up_countries[row.Country] = (row[\"NewLatitude\"], row[\"NewLongitude\"])\n",
    "        print(f\"{row['NewLatitude'], row['NewLongitude']}\")\n",
    "        return row"
   ]
  },
  {
   "cell_type": "code",
   "execution_count": null,
   "id": "37ed3670-eedf-42c2-9edd-30cff97785f9",
   "metadata": {},
   "outputs": [],
   "source": []
  },
  {
   "cell_type": "code",
   "execution_count": 130,
   "id": "ccc897a6-2376-446f-8d07-7ed8d7d5cdc3",
   "metadata": {},
   "outputs": [
    {
     "name": "stdout",
     "output_type": "stream",
     "text": [
      "'Nigeria' (cached) =                    (9.6000359, 7.9999721)\n",
      "'South Africa' (cached) =               (-28.8166236, 24.991639)\n",
      "'Egypt' (cached) =                      (26.2540493, 29.2675469)\n",
      "'Benin' (cached) =                      (9.5293472, 2.2584408)\n",
      "'Botswana' (cached) =                   (-23.1681782, 24.5928742)\n",
      "'Burkina Faso' (cached) =               (12.0753083, -1.6880314)\n",
      "'Cameroon' (cached) =                   (4.6125522, 13.1535811)\n",
      "'Cameroon' (cached) =                   (4.6125522, 13.1535811)\n",
      "'Ghana' (cached) =                      (8.0300284, -1.0800271)\n",
      "'Mali' (cached) =                       (16.3700359, -2.2900239)\n",
      "'Nigeria' (cached) =                    (9.6000359, 7.9999721)\n",
      "'Zambia' (cached) =                     (-14.5189121, 27.5589884)\n",
      "'Afghanistan' (cached) =                (33.7680065, 66.2385139)\n",
      "'Algeria' (cached) =                    (28.0000272, 2.9999825)\n",
      "'Botswana' (cached) =                   (-23.1681782, 24.5928742)\n",
      "'Brazil' (cached) =                     (-10.3333333, -53.2)\n",
      "'Cambodia' (cached) =                   (12.5433216, 104.8144914)\n",
      "'Central African Republic' (cached) =   (7.0323598, 19.9981227)\n",
      "'China' (cached) =                      (35.000074, 104.999927)\n",
      "'Colombia' (cached) =                   (4.099917, -72.9088133)\n",
      "'DRC' (cached) =                        (None, None)\n",
      "'France' (cached) =                     (46.603354, 1.8883335)\n",
      "'Guinea' (cached) =                     (10.7226226, -10.7083587)\n",
      "'Israel' (cached) =                     (30.8124247, 34.8594762)\n",
      "'Italy' (cached) =                      (42.6384261, 12.674297)\n",
      "'Japan' (cached) =                      (36.5748441, 139.2394179)\n",
      "'Mexico' (cached) =                     (19.4326296, -99.1331785)\n",
      "'Myanmar' (cached) =                    (17.1750495, 95.9999652)\n",
      "'Namibia' (cached) =                    (-23.2335499, 17.3231107)\n",
      "'Nigeria' (cached) =                    (9.6000359, 7.9999721)\n",
      "'Pakistan' (cached) =                   (30.3308401, 71.247499)\n",
      "'Palestine' (cached) =                  (None, None)\n",
      "'Papua New Guinea' (cached) =           (-5.6816069, 144.2489081)\n",
      "'Russia' (cached) =                     (None, None)\n",
      "'Tanzania' (cached) =                   (None, None)\n",
      "'United Kingdom' (cached) =             (54.7023545, -3.2765753)\n",
      "'Bangladesh' (cached) =                 (24.4769288, 90.2934413)\n",
      "'Barbados' (cached) =                   (13.1500331, -59.5250305)\n",
      "'China' (cached) =                      (35.000074, 104.999927)\n",
      "'Colombia' (cached) =                   (4.099917, -72.9088133)\n",
      "'Finland' (cached) =                    (63.2467777, 25.9209164)\n",
      "'Gambia' (cached) =                     (13.470062, -15.4900464)\n",
      "'India' (cached) =                      (22.3511148, 78.6677428)\n",
      "'Italy' (cached) =                      (42.6384261, 12.674297)\n",
      "'Japan' (cached) =                      (36.5748441, 139.2394179)\n",
      "'Kenya' (cached) =                      (1.4419683, 38.4313975)\n",
      "'Nigeria' (cached) =                    (9.6000359, 7.9999721)\n",
      "'Pakistan' (cached) =                   (30.3308401, 71.247499)\n",
      "'Peru' (cached) =                       (-6.8699697, -75.0458515)\n",
      "'Puerto Rico' (cached) =                (None, None)\n",
      "'Sierra Leone' (cached) =               (8.6400349, -11.8400269)\n",
      "'Spain' (cached) =                      (39.3260685, -4.8379791)\n",
      "'Sri Lanka' (cached) =                  (7.5554942, 80.7137847)\n",
      "'United Kingdom' (cached) =             (54.7023545, -3.2765753)\n",
      "'United States' (cached) =              (39.7837304, -100.445882)\n",
      "'Vietnam' (cached) =                    (None, None)\n",
      "'South Africa' (cached) =               (-28.8166236, 24.991639)\n",
      "'South Africa' (cached) =               (-28.8166236, 24.991639)\n",
      "'Algeria' (cached) =                    (28.0000272, 2.9999825)\n",
      "'Botswana' (cached) =                   (-23.1681782, 24.5928742)\n",
      "'Central African Republic' (cached) =   (7.0323598, 19.9981227)\n",
      "'DRC' (cached) =                        (None, None)\n",
      "'Gambia' (cached) =                     (13.470062, -15.4900464)\n",
      "'Kenya' (cached) =                      (1.4419683, 38.4313975)\n",
      "'Namibia' (cached) =                    (-23.2335499, 17.3231107)\n",
      "'Nigeria' (cached) =                    (9.6000359, 7.9999721)\n",
      "'Senegal' (cached) =                    (14.4750607, -14.4529612)\n",
      "'Sierra Leone' (cached) =               (8.6400349, -11.8400269)\n",
      "'South Africa' (cached) =               (-28.8166236, 24.991639)\n",
      "'Sudan' (cached) =                      (14.5844444, 29.4917691)\n",
      "'Western Sahara' (cached) =             (27.0321767, -8.7484659)\n"
     ]
    }
   ],
   "source": [
    "dfa = df.apply(get_coordinates, axis=1)"
   ]
  },
  {
   "cell_type": "code",
   "execution_count": 131,
   "id": "c6ca21e7-c625-47b5-9427-a43b969acaf2",
   "metadata": {},
   "outputs": [
    {
     "name": "stdout",
     "output_type": "stream",
     "text": [
      "{'Tanzania', 'Puerto Rico', 'Palestine', 'DRC', 'Russia', 'Vietnam'}\n",
      "Fixing 'Tanzania'... = -6.5247123 35.7878438\n",
      "Fixing 'Puerto Rico'... = 18.2247706 -66.4858295\n",
      "Fixing 'Palestine'... = 31.7621153 -95.6307891\n",
      "Fixing 'DRC'... = -2.9814344 23.8222636\n",
      "Fixing 'Russia'... = 64.6863136 97.7453061\n",
      "Fixing 'Vietnam'... = 15.9266657 107.9650855\n"
     ]
    }
   ],
   "source": [
    "unknowns = set(dfa[dfa['NewLatitude'].isna()][\"Country\"])\n",
    "print(unknowns)\n",
    "\n",
    "for ctryname in unknowns:\n",
    "    ctry = pycountry.countries.get(name=ctryname)\n",
    "    geolocator = Nominatim(user_agent=\"h3abionet.org\")\n",
    "    loc = geolocator.geocode(ctryname)\n",
    "    print(f\"Fixing '{ctryname}'... =\", loc.latitude, loc.longitude)\n",
    "    dfa.loc[dfa[\"Country\"]==ctryname,\"NewLatitude\"] = loc.latitude\n",
    "    dfa.loc[dfa[\"Country\"]==ctryname,\"NewLongitude\"] = loc.longitude\n",
    "\n",
    "ctryname = \"Palestine\"\n",
    "dfa.loc[dfa[\"Country\"]==ctryname,\"NewLatitude\"] = 35.25 \n",
    "dfa.loc[dfa[\"Country\"]==ctryname,\"NewLongitude\"] = 32.0\n",
    "    "
   ]
  },
  {
   "cell_type": "code",
   "execution_count": 132,
   "id": "1c4ca536-1824-4c36-af75-ed1301216fcd",
   "metadata": {},
   "outputs": [
    {
     "name": "stdout",
     "output_type": "stream",
     "text": [
      "Jittering: Algeria, Botswana, Cameroon, Central African Republic, China, Colombia, DRC, Gambia, Italy, Japan, Kenya, Namibia, Nigeria, Pakistan, Sierra Leone, South Africa, United Kingdom, \n"
     ]
    }
   ],
   "source": [
    "duplicated = sorted(set(dfa[dfa[\"Country\"].duplicated()][\"Country\"]))\n",
    "sigma = 1\n",
    "print(f\"Jittering: \", end=\"\")\n",
    "for ctryname in duplicated:\n",
    "    print(f\"{ctryname}\",end=\", \")\n",
    "    dfa.loc[dfa[\"Country\"]==ctryname, \"NewLatitude\"] = dfa['NewLatitude'].apply(lambda x: x + np.random.normal(x, sigma, 1)[0])\n",
    "    dfa.loc[dfa[\"Country\"]==ctryname, \"NewLongitude\"] = dfa['NewLongitude'].apply(lambda x: x + np.random.normal(x, sigma, 1)[0])\n",
    "print()"
   ]
  },
  {
   "cell_type": "code",
   "execution_count": 133,
   "id": "62632075-ea9a-483f-9802-6f7d4266cf32",
   "metadata": {},
   "outputs": [
    {
     "data": {
      "text/html": [
       "<div>\n",
       "<style scoped>\n",
       "    .dataframe tbody tr th:only-of-type {\n",
       "        vertical-align: middle;\n",
       "    }\n",
       "\n",
       "    .dataframe tbody tr th {\n",
       "        vertical-align: top;\n",
       "    }\n",
       "\n",
       "    .dataframe thead th {\n",
       "        text-align: right;\n",
       "    }\n",
       "</style>\n",
       "<table border=\"1\" class=\"dataframe\">\n",
       "  <thead>\n",
       "    <tr style=\"text-align: right;\">\n",
       "      <th></th>\n",
       "      <th>Country</th>\n",
       "      <th>Project</th>\n",
       "      <th>Latitude</th>\n",
       "      <th>Longitude</th>\n",
       "      <th>SampleCount</th>\n",
       "      <th>NewLatitude</th>\n",
       "      <th>NewLongitude</th>\n",
       "    </tr>\n",
       "  </thead>\n",
       "  <tbody>\n",
       "    <tr>\n",
       "      <th>58</th>\n",
       "      <td>Algeria</td>\n",
       "      <td>SGDP</td>\n",
       "      <td>29.000027</td>\n",
       "      <td>2.999983</td>\n",
       "      <td>2</td>\n",
       "      <td>56.319366</td>\n",
       "      <td>6.160329</td>\n",
       "    </tr>\n",
       "    <tr>\n",
       "      <th>13</th>\n",
       "      <td>Algeria</td>\n",
       "      <td>HGDP</td>\n",
       "      <td>27.000027</td>\n",
       "      <td>1.999982</td>\n",
       "      <td>26</td>\n",
       "      <td>55.187509</td>\n",
       "      <td>7.468879</td>\n",
       "    </tr>\n",
       "    <tr>\n",
       "      <th>4</th>\n",
       "      <td>Botswana</td>\n",
       "      <td>H3Africa WGS</td>\n",
       "      <td>-23.168178</td>\n",
       "      <td>24.592874</td>\n",
       "      <td>48</td>\n",
       "      <td>-46.797569</td>\n",
       "      <td>47.889476</td>\n",
       "    </tr>\n",
       "    <tr>\n",
       "      <th>14</th>\n",
       "      <td>Botswana</td>\n",
       "      <td>HGDP</td>\n",
       "      <td>-23.168178</td>\n",
       "      <td>24.592874</td>\n",
       "      <td>4</td>\n",
       "      <td>-46.259699</td>\n",
       "      <td>47.181908</td>\n",
       "    </tr>\n",
       "    <tr>\n",
       "      <th>59</th>\n",
       "      <td>Botswana</td>\n",
       "      <td>SGDP</td>\n",
       "      <td>-23.168178</td>\n",
       "      <td>24.592874</td>\n",
       "      <td>2</td>\n",
       "      <td>-46.526884</td>\n",
       "      <td>48.995282</td>\n",
       "    </tr>\n",
       "  </tbody>\n",
       "</table>\n",
       "</div>"
      ],
      "text/plain": [
       "     Country       Project   Latitude  Longitude  SampleCount  NewLatitude  \\\n",
       "58   Algeria          SGDP  29.000027   2.999983            2    56.319366   \n",
       "13   Algeria          HGDP  27.000027   1.999982           26    55.187509   \n",
       "4   Botswana  H3Africa WGS -23.168178  24.592874           48   -46.797569   \n",
       "14  Botswana          HGDP -23.168178  24.592874            4   -46.259699   \n",
       "59  Botswana          SGDP -23.168178  24.592874            2   -46.526884   \n",
       "\n",
       "    NewLongitude  \n",
       "58      6.160329  \n",
       "13      7.468879  \n",
       "4      47.889476  \n",
       "14     47.181908  \n",
       "59     48.995282  "
      ]
     },
     "execution_count": 133,
     "metadata": {},
     "output_type": "execute_result"
    }
   ],
   "source": [
    "dfa[dfa[\"Country\"].isin(duplicated)].sort_values([\"Country\"]).head()"
   ]
  },
  {
   "cell_type": "code",
   "execution_count": 134,
   "id": "e8126520-fa9b-4e0b-b7fd-357ee5406a4c",
   "metadata": {},
   "outputs": [
    {
     "data": {
      "text/plain": [
       "Index(['Country', 'Project', 'Latitude', 'Longitude', 'SampleCount',\n",
       "       'NewLatitude', 'NewLongitude'],\n",
       "      dtype='object')"
      ]
     },
     "execution_count": 134,
     "metadata": {},
     "output_type": "execute_result"
    }
   ],
   "source": [
    "dfa.columns"
   ]
  },
  {
   "cell_type": "code",
   "execution_count": 135,
   "id": "27f45b14-b020-4da7-ace0-8e9ab22dbba1",
   "metadata": {},
   "outputs": [],
   "source": [
    "# df = pd.read_csv(\"../docs/assets/mapdata.tsv\", sep = \"\\t\")\n",
    "\n",
    "\n",
    "# dfa[\"Latitude\"] = dfa[\"NewLatitude\"]\n",
    "# dfa[\"Longitude\"] = dfa[\"NewLongitude\"]\n",
    "# dfa = dfa[['Country', 'Project', 'Latitude', 'Longitude', 'SampleCount',]]"
   ]
  },
  {
   "cell_type": "code",
   "execution_count": 136,
   "id": "90a9f735-ce8f-4e45-b120-b4b8f35be5a0",
   "metadata": {},
   "outputs": [],
   "source": [
    "dfa.to_csv(\"../docs/assets/mapdata2.tsv\", index=False, sep=\"\\t\")"
   ]
  },
  {
   "cell_type": "code",
   "execution_count": 137,
   "id": "d4b06580-c0ac-488d-bbfd-ce4cb1d72320",
   "metadata": {},
   "outputs": [
    {
     "data": {
      "text/html": [
       "<div>\n",
       "<style scoped>\n",
       "    .dataframe tbody tr th:only-of-type {\n",
       "        vertical-align: middle;\n",
       "    }\n",
       "\n",
       "    .dataframe tbody tr th {\n",
       "        vertical-align: top;\n",
       "    }\n",
       "\n",
       "    .dataframe thead th {\n",
       "        text-align: right;\n",
       "    }\n",
       "</style>\n",
       "<table border=\"1\" class=\"dataframe\">\n",
       "  <thead>\n",
       "    <tr style=\"text-align: right;\">\n",
       "      <th></th>\n",
       "      <th>Country</th>\n",
       "      <th>Project</th>\n",
       "      <th>Latitude</th>\n",
       "      <th>Longitude</th>\n",
       "      <th>SampleCount</th>\n",
       "      <th>NewLatitude</th>\n",
       "      <th>NewLongitude</th>\n",
       "    </tr>\n",
       "  </thead>\n",
       "  <tbody>\n",
       "    <tr>\n",
       "      <th>63</th>\n",
       "      <td>Kenya</td>\n",
       "      <td>SGDP</td>\n",
       "      <td>-1.241968</td>\n",
       "      <td>36.831398</td>\n",
       "      <td>9</td>\n",
       "      <td>2.227495</td>\n",
       "      <td>77.402076</td>\n",
       "    </tr>\n",
       "    <tr>\n",
       "      <th>45</th>\n",
       "      <td>Kenya</td>\n",
       "      <td>KGP</td>\n",
       "      <td>1.441968</td>\n",
       "      <td>38.431398</td>\n",
       "      <td>99</td>\n",
       "      <td>3.439947</td>\n",
       "      <td>76.849743</td>\n",
       "    </tr>\n",
       "  </tbody>\n",
       "</table>\n",
       "</div>"
      ],
      "text/plain": [
       "   Country Project  Latitude  Longitude  SampleCount  NewLatitude  \\\n",
       "63   Kenya    SGDP -1.241968  36.831398            9     2.227495   \n",
       "45   Kenya     KGP  1.441968  38.431398           99     3.439947   \n",
       "\n",
       "    NewLongitude  \n",
       "63     77.402076  \n",
       "45     76.849743  "
      ]
     },
     "execution_count": 137,
     "metadata": {},
     "output_type": "execute_result"
    }
   ],
   "source": [
    "dfa[dfa[\"Country\"]==\"Kenya\"].sort_values([\"Latitude\",\"Longitude\"])"
   ]
  },
  {
   "cell_type": "code",
   "execution_count": 138,
   "id": "ba9b58cb-2c82-49c6-8647-56785d466c12",
   "metadata": {},
   "outputs": [
    {
     "data": {
      "text/html": [
       "<div>\n",
       "<style scoped>\n",
       "    .dataframe tbody tr th:only-of-type {\n",
       "        vertical-align: middle;\n",
       "    }\n",
       "\n",
       "    .dataframe tbody tr th {\n",
       "        vertical-align: top;\n",
       "    }\n",
       "\n",
       "    .dataframe thead th {\n",
       "        text-align: right;\n",
       "    }\n",
       "</style>\n",
       "<table border=\"1\" class=\"dataframe\">\n",
       "  <thead>\n",
       "    <tr style=\"text-align: right;\">\n",
       "      <th></th>\n",
       "      <th>Country</th>\n",
       "      <th>Project</th>\n",
       "      <th>Latitude</th>\n",
       "      <th>Longitude</th>\n",
       "      <th>SampleCount</th>\n",
       "      <th>NewLatitude</th>\n",
       "      <th>NewLongitude</th>\n",
       "    </tr>\n",
       "  </thead>\n",
       "  <tbody>\n",
       "  </tbody>\n",
       "</table>\n",
       "</div>"
      ],
      "text/plain": [
       "Empty DataFrame\n",
       "Columns: [Country, Project, Latitude, Longitude, SampleCount, NewLatitude, NewLongitude]\n",
       "Index: []"
      ]
     },
     "execution_count": 138,
     "metadata": {},
     "output_type": "execute_result"
    }
   ],
   "source": [
    "dfa[dfa[\"NewLongitude\"].isna()]"
   ]
  },
  {
   "cell_type": "code",
   "execution_count": 139,
   "id": "96103b35-dba5-4b8e-b043-ba84e4ba9900",
   "metadata": {},
   "outputs": [
    {
     "name": "stdout",
     "output_type": "stream",
     "text": [
      "Fixing 'Algeria'... = 28.0000272 2.9999825\n"
     ]
    }
   ],
   "source": [
    "ctryname = \"Algeria\"\n",
    "ctry = pycountry.countries.get(name=ctryname)\n",
    "geolocator = Nominatim(user_agent=\"h3abionet.org\")\n",
    "loc = geolocator.geocode(ctryname, country_codes=[ctry.alpha_2])\n",
    "print(f\"Fixing '{ctryname}'... =\", loc.latitude, loc.longitude)\n",
    "# dfa.loc[dfa[\"Country\"]==ctryname,\"NewLatitude\"] = loc.latitude\n",
    "# dfa.loc[dfa[\"Country\"]==ctryname,\"NewLongitude\"] = loc.longitude"
   ]
  },
  {
   "cell_type": "code",
   "execution_count": 140,
   "id": "cf4365aa-f5de-4c2a-9b24-cfeda5560486",
   "metadata": {},
   "outputs": [
    {
     "data": {
      "text/plain": [
       "Country(alpha_2='DZ', alpha_3='DZA', flag='🇩🇿', name='Algeria', numeric='012', official_name=\"People's Democratic Republic of Algeria\")"
      ]
     },
     "execution_count": 140,
     "metadata": {},
     "output_type": "execute_result"
    }
   ],
   "source": [
    "ctry"
   ]
  },
  {
   "cell_type": "code",
   "execution_count": null,
   "id": "1faa70d9-2622-4fe8-9450-e4eca03878b8",
   "metadata": {},
   "outputs": [],
   "source": []
  },
  {
   "cell_type": "code",
   "execution_count": null,
   "id": "c3435caf-4a94-4d98-8e03-c45dbad8a9cc",
   "metadata": {},
   "outputs": [],
   "source": []
  },
  {
   "cell_type": "code",
   "execution_count": null,
   "id": "129131e7-86ea-4d55-b278-255c302f237d",
   "metadata": {},
   "outputs": [],
   "source": []
  }
 ],
 "metadata": {
  "kernelspec": {
   "display_name": "agvd-docs",
   "language": "python",
   "name": "agvd-docs"
  },
  "language_info": {
   "codemirror_mode": {
    "name": "ipython",
    "version": 3
   },
   "file_extension": ".py",
   "mimetype": "text/x-python",
   "name": "python",
   "nbconvert_exporter": "python",
   "pygments_lexer": "ipython3",
   "version": "3.11.4"
  }
 },
 "nbformat": 4,
 "nbformat_minor": 5
}
